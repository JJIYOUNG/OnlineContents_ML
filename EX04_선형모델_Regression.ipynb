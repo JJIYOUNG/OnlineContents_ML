{
 "cells": [
  {
   "cell_type": "markdown",
   "metadata": {},
   "source": [
    "### 목표\n",
    "- 1. LinearRegression 사용해보기\n",
    "- 2. 가중치 변화에 따른 비용함수 값의 변화 그래프 시각화\n",
    "- 3. 경사하강법으로 학습하는 SGDRegressor 사용해보기"
   ]
  },
  {
   "cell_type": "markdown",
   "metadata": {},
   "source": [
    "#### 성적데이터"
   ]
  },
  {
   "cell_type": "code",
   "execution_count": 1,
   "metadata": {},
   "outputs": [],
   "source": [
    "import numpy as np\n",
    "import pandas as pd\n",
    "import matplotlib.pyplot as plt"
   ]
  },
  {
   "cell_type": "code",
   "execution_count": 2,
   "metadata": {},
   "outputs": [
    {
     "data": {
      "text/html": [
       "<div>\n",
       "<style scoped>\n",
       "    .dataframe tbody tr th:only-of-type {\n",
       "        vertical-align: middle;\n",
       "    }\n",
       "\n",
       "    .dataframe tbody tr th {\n",
       "        vertical-align: top;\n",
       "    }\n",
       "\n",
       "    .dataframe thead th {\n",
       "        text-align: right;\n",
       "    }\n",
       "</style>\n",
       "<table border=\"1\" class=\"dataframe\">\n",
       "  <thead>\n",
       "    <tr style=\"text-align: right;\">\n",
       "      <th></th>\n",
       "      <th>시간</th>\n",
       "      <th>성적</th>\n",
       "    </tr>\n",
       "  </thead>\n",
       "  <tbody>\n",
       "    <tr>\n",
       "      <th>지영</th>\n",
       "      <td>2</td>\n",
       "      <td>20</td>\n",
       "    </tr>\n",
       "    <tr>\n",
       "      <th>경은</th>\n",
       "      <td>4</td>\n",
       "      <td>40</td>\n",
       "    </tr>\n",
       "    <tr>\n",
       "      <th>혜원</th>\n",
       "      <td>8</td>\n",
       "      <td>80</td>\n",
       "    </tr>\n",
       "    <tr>\n",
       "      <th>나라</th>\n",
       "      <td>9</td>\n",
       "      <td>90</td>\n",
       "    </tr>\n",
       "  </tbody>\n",
       "</table>\n",
       "</div>"
      ],
      "text/plain": [
       "    시간  성적\n",
       "지영   2  20\n",
       "경은   4  40\n",
       "혜원   8  80\n",
       "나라   9  90"
      ]
     },
     "execution_count": 2,
     "metadata": {},
     "output_type": "execute_result"
    }
   ],
   "source": [
    "data = pd.DataFrame([[2,20],[4,40],[8,80],[9,90]], index = ['지영','경은','혜원','나라'],\n",
    "                   columns = ['시간','성적'])\n",
    "\n",
    "data"
   ]
  },
  {
   "cell_type": "markdown",
   "metadata": {},
   "source": [
    "#### 1. 수학 공식을 이용한 해석적 모델 \n",
    "- LinearRegression"
   ]
  },
  {
   "cell_type": "code",
   "execution_count": 3,
   "metadata": {},
   "outputs": [],
   "source": [
    "from sklearn.linear_model import LinearRegression"
   ]
  },
  {
   "cell_type": "code",
   "execution_count": 4,
   "metadata": {},
   "outputs": [],
   "source": [
    "# 모델 객체 생성\n",
    "linear_model = LinearRegression()"
   ]
  },
  {
   "cell_type": "code",
   "execution_count": 5,
   "metadata": {},
   "outputs": [
    {
     "data": {
      "text/plain": [
       "LinearRegression()"
      ]
     },
     "execution_count": 5,
     "metadata": {},
     "output_type": "execute_result"
    }
   ],
   "source": [
    "# 모델 학습\n",
    "linear_model.fit(data[['시간']],data['성적']) # 문제데이터는 2차원"
   ]
  },
  {
   "cell_type": "markdown",
   "metadata": {},
   "source": [
    "- y = 10x + 0"
   ]
  },
  {
   "cell_type": "code",
   "execution_count": 6,
   "metadata": {},
   "outputs": [
    {
     "name": "stdout",
     "output_type": "stream",
     "text": [
      "[10.]\n",
      "7.105427357601002e-15\n"
     ]
    }
   ],
   "source": [
    "# 가중치와 절편 확인\n",
    "print(linear_model.coef_) # 가중치\n",
    "print(linear_model.intercept_) # 절편"
   ]
  },
  {
   "cell_type": "markdown",
   "metadata": {},
   "source": [
    "#### 2. 경사하강법\n",
    "- 가중치(w)변화에 따른 비용함수(cost) 값의 변화 그래프"
   ]
  },
  {
   "cell_type": "code",
   "execution_count": 7,
   "metadata": {},
   "outputs": [],
   "source": [
    "# 가설 함수\n",
    "def h(w,x): \n",
    "    return w*x + 0"
   ]
  },
  {
   "cell_type": "code",
   "execution_count": 8,
   "metadata": {},
   "outputs": [],
   "source": [
    "# 비용함수 \n",
    "def cost(data, target, weight): # mse\n",
    "    y_pre = h(weight,data) # 예측값\n",
    "    return ((y_pre - target) **2).mean() # cost값 == mse값"
   ]
  },
  {
   "cell_type": "code",
   "execution_count": 9,
   "metadata": {},
   "outputs": [
    {
     "data": {
      "text/plain": [
       "1031.25"
      ]
     },
     "execution_count": 9,
     "metadata": {},
     "output_type": "execute_result"
    }
   ],
   "source": [
    "cost(data['시간'],data['성적'],5)"
   ]
  },
  {
   "cell_type": "code",
   "execution_count": 10,
   "metadata": {},
   "outputs": [
    {
     "data": {
      "text/plain": [
       "371.25"
      ]
     },
     "execution_count": 10,
     "metadata": {},
     "output_type": "execute_result"
    }
   ],
   "source": [
    "cost(data['시간'],data['성적'],7)"
   ]
  },
  {
   "cell_type": "code",
   "execution_count": 11,
   "metadata": {},
   "outputs": [
    {
     "data": {
      "text/plain": [
       "0.0"
      ]
     },
     "execution_count": 11,
     "metadata": {},
     "output_type": "execute_result"
    }
   ],
   "source": [
    "cost(data['시간'],data['성적'],10)"
   ]
  },
  {
   "cell_type": "code",
   "execution_count": 12,
   "metadata": {},
   "outputs": [
    {
     "data": {
      "text/plain": [
       "371.25"
      ]
     },
     "execution_count": 12,
     "metadata": {},
     "output_type": "execute_result"
    }
   ],
   "source": [
    "cost(data['시간'],data['성적'],13)"
   ]
  },
  {
   "cell_type": "code",
   "execution_count": 13,
   "metadata": {},
   "outputs": [
    {
     "data": {
      "text/plain": [
       "4125.0"
      ]
     },
     "execution_count": 13,
     "metadata": {},
     "output_type": "execute_result"
    }
   ],
   "source": [
    "cost(data['시간'],data['성적'],20)"
   ]
  },
  {
   "cell_type": "code",
   "execution_count": 14,
   "metadata": {},
   "outputs": [],
   "source": [
    "w_range = range(-10,31)"
   ]
  },
  {
   "cell_type": "code",
   "execution_count": 15,
   "metadata": {
    "collapsed": true
   },
   "outputs": [
    {
     "data": {
      "text/plain": [
       "[16500.0,\n",
       " 14891.25,\n",
       " 13365.0,\n",
       " 11921.25,\n",
       " 10560.0,\n",
       " 9281.25,\n",
       " 8085.0,\n",
       " 6971.25,\n",
       " 5940.0,\n",
       " 4991.25,\n",
       " 4125.0,\n",
       " 3341.25,\n",
       " 2640.0,\n",
       " 2021.25,\n",
       " 1485.0,\n",
       " 1031.25,\n",
       " 660.0,\n",
       " 371.25,\n",
       " 165.0,\n",
       " 41.25,\n",
       " 0.0,\n",
       " 41.25,\n",
       " 165.0,\n",
       " 371.25,\n",
       " 660.0,\n",
       " 1031.25,\n",
       " 1485.0,\n",
       " 2021.25,\n",
       " 2640.0,\n",
       " 3341.25,\n",
       " 4125.0,\n",
       " 4991.25,\n",
       " 5940.0,\n",
       " 6971.25,\n",
       " 8085.0,\n",
       " 9281.25,\n",
       " 10560.0,\n",
       " 11921.25,\n",
       " 13365.0,\n",
       " 14891.25,\n",
       " 16500.0]"
      ]
     },
     "execution_count": 15,
     "metadata": {},
     "output_type": "execute_result"
    }
   ],
   "source": [
    "cost_list = []\n",
    "for w in w_range:\n",
    "    c = cost(data['시간'],data['성적'],w)\n",
    "    cost_list.append(c)\n",
    "cost_list"
   ]
  },
  {
   "cell_type": "code",
   "execution_count": 16,
   "metadata": {
    "collapsed": true
   },
   "outputs": [
    {
     "data": {
      "image/png": "[encoded data removed]",
      "text/plain": [
       "<Figure size 432x288 with 1 Axes>"
      ]
     },
     "metadata": {
      "needs_background": "light"
     },
     "output_type": "display_data"
    }
   ],
   "source": [
    "plt.plot(w_range,cost_list)\n",
    "plt.xlabel('w')\n",
    "plt.ylabel('mse')\n",
    "plt.show()"
   ]
  },
  {
   "cell_type": "markdown",
   "metadata": {},
   "source": [
    "- SGDRegressor 사용하기"
   ]
  },
  {
   "cell_type": "code",
   "execution_count": 17,
   "metadata": {},
   "outputs": [],
   "source": [
    "from sklearn.linear_model import SGDRegressor # 경사하강법"
   ]
  },
  {
   "cell_type": "code",
   "execution_count": 26,
   "metadata": {},
   "outputs": [],
   "source": [
    "# max_iter = 가중치 업데이트 반복 횟수(epochs)\n",
    "# eta0 = 학습률 설정(learning rate)\n",
    "# verbose = 학습 현황 출력 여부 (1==True)\n",
    "sgd_model = SGDRegressor(max_iter = 5000,\n",
    "                        eta0 = 0.001,\n",
    "                        verbose = 1)\n"
   ]
  },
  {
   "cell_type": "code",
   "execution_count": 27,
   "metadata": {},
   "outputs": [
    {
     "name": "stdout",
     "output_type": "stream",
     "text": [
      "-- Epoch 1\n",
      "Norm: 1.22, NNZs: 1, Bias: 0.174728, T: 4, Avg. loss: 1895.163278\n",
      "Total training time: 0.00 seconds.\n",
      "-- Epoch 2\n",
      "Norm: 2.07, NNZs: 1, Bias: 0.295497, T: 8, Avg. loss: 1483.501239\n",
      "Total training time: 0.00 seconds.\n",
      "-- Epoch 3\n",
      "Norm: 2.77, NNZs: 1, Bias: 0.392796, T: 12, Avg. loss: 1211.706916\n",
      "Total training time: 0.00 seconds.\n",
      "-- Epoch 4\n",
      "Norm: 3.35, NNZs: 1, Bias: 0.474750, T: 16, Avg. loss: 1008.725576\n",
      "Total training time: 0.00 seconds.\n",
      "-- Epoch 5\n",
      "Norm: 3.86, NNZs: 1, Bias: 0.545595, T: 20, Avg. loss: 850.887889\n",
      "Total training time: 0.00 seconds.\n",
      "-- Epoch 6\n",
      "Norm: 4.30, NNZs: 1, Bias: 0.607879, T: 24, Avg. loss: 724.237260\n",
      "Total training time: 0.00 seconds.\n",
      "-- Epoch 7\n",
      "Norm: 4.70, NNZs: 1, Bias: 0.663189, T: 28, Avg. loss: 621.042979\n",
      "Total training time: 0.00 seconds.\n",
      "-- Epoch 8\n",
      "Norm: 5.06, NNZs: 1, Bias: 0.712816, T: 32, Avg. loss: 535.575046\n",
      "Total training time: 0.00 seconds.\n",
      "-- Epoch 9\n",
      "Norm: 5.38, NNZs: 1, Bias: 0.757547, T: 36, Avg. loss: 464.211229\n",
      "Total training time: 0.00 seconds.\n",
      "-- Epoch 10\n",
      "Norm: 5.67, NNZs: 1, Bias: 0.798176, T: 40, Avg. loss: 403.982530\n",
      "Total training time: 0.00 seconds.\n",
      "-- Epoch 11\n",
      "Norm: 5.94, NNZs: 1, Bias: 0.835153, T: 44, Avg. loss: 352.898382\n",
      "Total training time: 0.00 seconds.\n",
      "-- Epoch 12\n",
      "Norm: 6.18, NNZs: 1, Bias: 0.869021, T: 48, Avg. loss: 309.227114\n",
      "Total training time: 0.00 seconds.\n",
      "-- Epoch 13\n",
      "Norm: 6.40, NNZs: 1, Bias: 0.900058, T: 52, Avg. loss: 271.770641\n",
      "Total training time: 0.00 seconds.\n",
      "-- Epoch 14\n",
      "Norm: 6.61, NNZs: 1, Bias: 0.928658, T: 56, Avg. loss: 239.443311\n",
      "Total training time: 0.00 seconds.\n",
      "-- Epoch 15\n",
      "Norm: 6.80, NNZs: 1, Bias: 0.955005, T: 60, Avg. loss: 211.480038\n",
      "Total training time: 0.00 seconds.\n",
      "-- Epoch 16\n",
      "Norm: 6.98, NNZs: 1, Bias: 0.979398, T: 64, Avg. loss: 187.166030\n",
      "Total training time: 0.00 seconds.\n",
      "-- Epoch 17\n",
      "Norm: 7.14, NNZs: 1, Bias: 1.001962, T: 68, Avg. loss: 165.991842\n",
      "Total training time: 0.00 seconds.\n",
      "-- Epoch 18\n",
      "Norm: 7.29, NNZs: 1, Bias: 1.022931, T: 72, Avg. loss: 147.469819\n",
      "Total training time: 0.00 seconds.\n",
      "-- Epoch 19\n",
      "Norm: 7.43, NNZs: 1, Bias: 1.042392, T: 76, Avg. loss: 131.249966\n",
      "Total training time: 0.00 seconds.\n",
      "-- Epoch 20\n",
      "Norm: 7.57, NNZs: 1, Bias: 1.060533, T: 80, Avg. loss: 116.990441\n",
      "Total training time: 0.00 seconds.\n",
      "-- Epoch 21\n",
      "Norm: 7.69, NNZs: 1, Bias: 1.077417, T: 84, Avg. loss: 104.444862\n",
      "Total training time: 0.00 seconds.\n",
      "-- Epoch 22\n",
      "Norm: 7.80, NNZs: 1, Bias: 1.093196, T: 88, Avg. loss: 93.368400\n",
      "Total training time: 0.00 seconds.\n",
      "-- Epoch 23\n",
      "Norm: 7.91, NNZs: 1, Bias: 1.107915, T: 92, Avg. loss: 83.584184\n",
      "Total training time: 0.00 seconds.\n",
      "-- Epoch 24\n",
      "Norm: 8.01, NNZs: 1, Bias: 1.121702, T: 96, Avg. loss: 74.913771\n",
      "Total training time: 0.00 seconds.\n",
      "-- Epoch 25\n",
      "Norm: 8.11, NNZs: 1, Bias: 1.134588, T: 100, Avg. loss: 67.228128\n",
      "Total training time: 0.00 seconds.\n",
      "-- Epoch 26\n",
      "Norm: 8.19, NNZs: 1, Bias: 1.146681, T: 104, Avg. loss: 60.395287\n",
      "Total training time: 0.00 seconds.\n",
      "-- Epoch 27\n",
      "Norm: 8.28, NNZs: 1, Bias: 1.158004, T: 108, Avg. loss: 54.319830\n",
      "Total training time: 0.00 seconds.\n",
      "-- Epoch 28\n",
      "Norm: 8.36, NNZs: 1, Bias: 1.168647, T: 112, Avg. loss: 48.902944\n",
      "Total training time: 0.00 seconds.\n",
      "-- Epoch 29\n",
      "Norm: 8.43, NNZs: 1, Bias: 1.178627, T: 116, Avg. loss: 44.073249\n",
      "Total training time: 0.00 seconds.\n",
      "-- Epoch 30\n",
      "Norm: 8.50, NNZs: 1, Bias: 1.188021, T: 120, Avg. loss: 39.755962\n",
      "Total training time: 0.00 seconds.\n",
      "-- Epoch 31\n",
      "Norm: 8.56, NNZs: 1, Bias: 1.196842, T: 124, Avg. loss: 35.897149\n",
      "Total training time: 0.00 seconds.\n",
      "-- Epoch 32\n",
      "Norm: 8.62, NNZs: 1, Bias: 1.205156, T: 128, Avg. loss: 32.439684\n",
      "Total training time: 0.00 seconds.\n",
      "-- Epoch 33\n",
      "Norm: 8.68, NNZs: 1, Bias: 1.212971, T: 132, Avg. loss: 29.342457\n",
      "Total training time: 0.00 seconds.\n",
      "-- Epoch 34\n",
      "Norm: 8.74, NNZs: 1, Bias: 1.220345, T: 136, Avg. loss: 26.561466\n",
      "Total training time: 0.00 seconds.\n",
      "-- Epoch 35\n",
      "Norm: 8.79, NNZs: 1, Bias: 1.227284, T: 140, Avg. loss: 24.065135\n",
      "Total training time: 0.00 seconds.\n",
      "-- Epoch 36\n",
      "Norm: 8.84, NNZs: 1, Bias: 1.233838, T: 144, Avg. loss: 21.819321\n",
      "Total training time: 0.00 seconds.\n",
      "-- Epoch 37\n",
      "Norm: 8.88, NNZs: 1, Bias: 1.240010, T: 148, Avg. loss: 19.799601\n",
      "Total training time: 0.00 seconds.\n",
      "-- Epoch 38\n",
      "Norm: 8.93, NNZs: 1, Bias: 1.245846, T: 152, Avg. loss: 17.979308\n",
      "Total training time: 0.00 seconds.\n",
      "-- Epoch 39\n",
      "Norm: 8.97, NNZs: 1, Bias: 1.251346, T: 156, Avg. loss: 16.339436\n",
      "Total training time: 0.00 seconds.\n",
      "-- Epoch 40\n",
      "Norm: 9.01, NNZs: 1, Bias: 1.256549, T: 160, Avg. loss: 14.859028\n",
      "Total training time: 0.00 seconds.\n",
      "-- Epoch 41\n",
      "Norm: 9.05, NNZs: 1, Bias: 1.261457, T: 164, Avg. loss: 13.523214\n",
      "Total training time: 0.00 seconds.\n",
      "-- Epoch 42\n",
      "Norm: 9.08, NNZs: 1, Bias: 1.266103, T: 168, Avg. loss: 12.315434\n",
      "Total training time: 0.00 seconds.\n",
      "-- Epoch 43\n",
      "Norm: 9.11, NNZs: 1, Bias: 1.270489, T: 172, Avg. loss: 11.223992\n",
      "Total training time: 0.00 seconds.\n",
      "-- Epoch 44\n",
      "Norm: 9.15, NNZs: 1, Bias: 1.274643, T: 176, Avg. loss: 10.235738\n",
      "Total training time: 0.00 seconds.\n",
      "-- Epoch 45\n",
      "Norm: 9.18, NNZs: 1, Bias: 1.278565, T: 180, Avg. loss: 9.341433\n",
      "Total training time: 0.00 seconds.\n",
      "-- Epoch 46\n",
      "Norm: 9.21, NNZs: 1, Bias: 1.282283, T: 184, Avg. loss: 8.530583\n",
      "Total training time: 0.00 seconds.\n",
      "-- Epoch 47\n",
      "Norm: 9.23, NNZs: 1, Bias: 1.285795, T: 188, Avg. loss: 7.795859\n",
      "Total training time: 0.00 seconds.\n",
      "-- Epoch 48\n",
      "Norm: 9.26, NNZs: 1, Bias: 1.289125, T: 192, Avg. loss: 7.128851\n",
      "Total training time: 0.00 seconds.\n",
      "-- Epoch 49\n",
      "Norm: 9.28, NNZs: 1, Bias: 1.292271, T: 196, Avg. loss: 6.523725\n",
      "Total training time: 0.00 seconds.\n",
      "-- Epoch 50\n",
      "Norm: 9.31, NNZs: 1, Bias: 1.295257, T: 200, Avg. loss: 5.973711\n",
      "Total training time: 0.00 seconds.\n",
      "-- Epoch 51\n",
      "Norm: 9.33, NNZs: 1, Bias: 1.298078, T: 204, Avg. loss: 5.474149\n",
      "Total training time: 0.00 seconds.\n",
      "-- Epoch 52\n",
      "Norm: 9.35, NNZs: 1, Bias: 1.300755, T: 208, Avg. loss: 5.019570\n",
      "Total training time: 0.00 seconds.\n",
      "-- Epoch 53\n",
      "Norm: 9.37, NNZs: 1, Bias: 1.303286, T: 212, Avg. loss: 4.606238\n",
      "Total training time: 0.00 seconds.\n",
      "-- Epoch 54\n",
      "Norm: 9.39, NNZs: 1, Bias: 1.305688, T: 216, Avg. loss: 4.229721\n",
      "Total training time: 0.00 seconds.\n",
      "-- Epoch 55\n",
      "Norm: 9.41, NNZs: 1, Bias: 1.307959, T: 220, Avg. loss: 3.887015\n",
      "Total training time: 0.00 seconds.\n",
      "-- Epoch 56\n",
      "Norm: 9.42, NNZs: 1, Bias: 1.310115, T: 224, Avg. loss: 3.574513\n",
      "Total training time: 0.00 seconds.\n",
      "-- Epoch 57\n",
      "Norm: 9.44, NNZs: 1, Bias: 1.312153, T: 228, Avg. loss: 3.289796\n",
      "Total training time: 0.00 seconds.\n",
      "-- Epoch 58\n",
      "Norm: 9.46, NNZs: 1, Bias: 1.314089, T: 232, Avg. loss: 3.029920\n",
      "Total training time: 0.00 seconds.\n",
      "-- Epoch 59\n",
      "Norm: 9.47, NNZs: 1, Bias: 1.315918, T: 236, Avg. loss: 2.792930\n",
      "Total training time: 0.00 seconds.\n",
      "-- Epoch 60\n",
      "Norm: 9.49, NNZs: 1, Bias: 1.317655, T: 240, Avg. loss: 2.576414\n",
      "Total training time: 0.00 seconds.\n",
      "-- Epoch 61\n",
      "Norm: 9.50, NNZs: 1, Bias: 1.319297, T: 244, Avg. loss: 2.378793\n",
      "Total training time: 0.00 seconds.\n",
      "-- Epoch 62\n",
      "Norm: 9.51, NNZs: 1, Bias: 1.320856, T: 248, Avg. loss: 2.198083\n",
      "Total training time: 0.00 seconds.\n",
      "-- Epoch 63\n",
      "Norm: 9.52, NNZs: 1, Bias: 1.322329, T: 252, Avg. loss: 2.033005\n",
      "Total training time: 0.00 seconds.\n",
      "-- Epoch 64\n",
      "Norm: 9.54, NNZs: 1, Bias: 1.323727, T: 256, Avg. loss: 1.881924\n",
      "Total training time: 0.00 seconds.\n",
      "-- Epoch 65\n",
      "Norm: 9.55, NNZs: 1, Bias: 1.325048, T: 260, Avg. loss: 1.743801\n",
      "Total training time: 0.00 seconds.\n",
      "-- Epoch 66\n",
      "Norm: 9.56, NNZs: 1, Bias: 1.326301, T: 264, Avg. loss: 1.617286\n",
      "Total training time: 0.00 seconds.\n",
      "-- Epoch 67\n",
      "Norm: 9.57, NNZs: 1, Bias: 1.327485, T: 268, Avg. loss: 1.501533\n",
      "Total training time: 0.00 seconds.\n",
      "-- Epoch 68\n",
      "Norm: 9.58, NNZs: 1, Bias: 1.328608, T: 272, Avg. loss: 1.395423\n",
      "Total training time: 0.00 seconds.\n",
      "-- Epoch 69\n",
      "Norm: 9.59, NNZs: 1, Bias: 1.329668, T: 276, Avg. loss: 1.298270\n",
      "Total training time: 0.00 seconds.\n",
      "-- Epoch 70\n",
      "Norm: 9.60, NNZs: 1, Bias: 1.330673, T: 280, Avg. loss: 1.209141\n",
      "Total training time: 0.00 seconds.\n",
      "-- Epoch 71\n",
      "Norm: 9.61, NNZs: 1, Bias: 1.331621, T: 284, Avg. loss: 1.127479\n",
      "Total training time: 0.00 seconds.\n",
      "-- Epoch 72\n",
      "Norm: 9.61, NNZs: 1, Bias: 1.332519, T: 288, Avg. loss: 1.052506\n",
      "Total training time: 0.00 seconds.\n",
      "-- Epoch 73\n",
      "Norm: 9.62, NNZs: 1, Bias: 1.333365, T: 292, Avg. loss: 0.983768\n",
      "Total training time: 0.00 seconds.\n",
      "-- Epoch 74\n",
      "Norm: 9.63, NNZs: 1, Bias: 1.334167, T: 296, Avg. loss: 0.920614\n",
      "Total training time: 0.00 seconds.\n",
      "-- Epoch 75\n",
      "Norm: 9.64, NNZs: 1, Bias: 1.334921, T: 300, Avg. loss: 0.862676\n",
      "Total training time: 0.00 seconds.\n",
      "-- Epoch 76\n",
      "Norm: 9.64, NNZs: 1, Bias: 1.335636, T: 304, Avg. loss: 0.809407\n",
      "Total training time: 0.00 seconds.\n",
      "-- Epoch 77\n",
      "Norm: 9.65, NNZs: 1, Bias: 1.336307, T: 308, Avg. loss: 0.760507\n",
      "Total training time: 0.00 seconds.\n",
      "-- Epoch 78\n",
      "Norm: 9.66, NNZs: 1, Bias: 1.336941, T: 312, Avg. loss: 0.715517\n",
      "Total training time: 0.00 seconds.\n",
      "-- Epoch 79\n",
      "Norm: 9.66, NNZs: 1, Bias: 1.337537, T: 316, Avg. loss: 0.674193\n",
      "Total training time: 0.00 seconds.\n",
      "-- Epoch 80\n",
      "Norm: 9.67, NNZs: 1, Bias: 1.338100, T: 320, Avg. loss: 0.636147\n",
      "Total training time: 0.00 seconds.\n",
      "-- Epoch 81\n",
      "Norm: 9.67, NNZs: 1, Bias: 1.338626, T: 324, Avg. loss: 0.601182\n",
      "Total training time: 0.00 seconds.\n",
      "-- Epoch 82\n",
      "Norm: 9.68, NNZs: 1, Bias: 1.339124, T: 328, Avg. loss: 0.568969\n",
      "Total training time: 0.00 seconds.\n",
      "-- Epoch 83\n",
      "Norm: 9.69, NNZs: 1, Bias: 1.339588, T: 332, Avg. loss: 0.539350\n",
      "Total training time: 0.00 seconds.\n",
      "-- Epoch 84\n",
      "Norm: 9.69, NNZs: 1, Bias: 1.340026, T: 336, Avg. loss: 0.512043\n",
      "Total training time: 0.00 seconds.\n",
      "-- Epoch 85\n",
      "Norm: 9.69, NNZs: 1, Bias: 1.340433, T: 340, Avg. loss: 0.486922\n",
      "Total training time: 0.01 seconds.\n",
      "-- Epoch 86\n",
      "Norm: 9.70, NNZs: 1, Bias: 1.340817, T: 344, Avg. loss: 0.463747\n",
      "Total training time: 0.01 seconds.\n",
      "-- Epoch 87\n",
      "Norm: 9.70, NNZs: 1, Bias: 1.341173, T: 348, Avg. loss: 0.442417\n",
      "Total training time: 0.01 seconds.\n",
      "-- Epoch 88\n",
      "Norm: 9.71, NNZs: 1, Bias: 1.341506, T: 352, Avg. loss: 0.422726\n",
      "Total training time: 0.01 seconds.\n",
      "-- Epoch 89\n",
      "Norm: 9.71, NNZs: 1, Bias: 1.341815, T: 356, Avg. loss: 0.404595\n",
      "Total training time: 0.01 seconds.\n",
      "-- Epoch 90\n",
      "Norm: 9.72, NNZs: 1, Bias: 1.342104, T: 360, Avg. loss: 0.387846\n",
      "Total training time: 0.01 seconds.\n",
      "-- Epoch 91\n",
      "Norm: 9.72, NNZs: 1, Bias: 1.342370, T: 364, Avg. loss: 0.372417\n",
      "Total training time: 0.01 seconds.\n",
      "-- Epoch 92\n",
      "Norm: 9.72, NNZs: 1, Bias: 1.342618, T: 368, Avg. loss: 0.358154\n",
      "Total training time: 0.01 seconds.\n",
      "-- Epoch 93\n",
      "Norm: 9.73, NNZs: 1, Bias: 1.342845, T: 372, Avg. loss: 0.345011\n",
      "Total training time: 0.01 seconds.\n",
      "-- Epoch 94\n",
      "Norm: 9.73, NNZs: 1, Bias: 1.343056, T: 376, Avg. loss: 0.332853\n",
      "Total training time: 0.01 seconds.\n",
      "-- Epoch 95\n",
      "Norm: 9.73, NNZs: 1, Bias: 1.343247, T: 380, Avg. loss: 0.321644\n",
      "Total training time: 0.01 seconds.\n",
      "-- Epoch 96\n",
      "Norm: 9.74, NNZs: 1, Bias: 1.343423, T: 384, Avg. loss: 0.311269\n",
      "Total training time: 0.01 seconds.\n",
      "-- Epoch 97\n",
      "Norm: 9.74, NNZs: 1, Bias: 1.343582, T: 388, Avg. loss: 0.301700\n",
      "Total training time: 0.01 seconds.\n",
      "-- Epoch 98\n",
      "Norm: 9.74, NNZs: 1, Bias: 1.343727, T: 392, Avg. loss: 0.292837\n",
      "Total training time: 0.01 seconds.\n",
      "-- Epoch 99\n",
      "Norm: 9.74, NNZs: 1, Bias: 1.343856, T: 396, Avg. loss: 0.284660\n",
      "Total training time: 0.01 seconds.\n",
      "-- Epoch 100\n",
      "Norm: 9.75, NNZs: 1, Bias: 1.343973, T: 400, Avg. loss: 0.277080\n",
      "Total training time: 0.01 seconds.\n",
      "-- Epoch 101\n",
      "Norm: 9.75, NNZs: 1, Bias: 1.344074, T: 404, Avg. loss: 0.270085\n",
      "Total training time: 0.01 seconds.\n",
      "-- Epoch 102\n",
      "Norm: 9.75, NNZs: 1, Bias: 1.344165, T: 408, Avg. loss: 0.263596\n",
      "Total training time: 0.01 seconds.\n",
      "-- Epoch 103\n",
      "Norm: 9.75, NNZs: 1, Bias: 1.344242, T: 412, Avg. loss: 0.257606\n",
      "Total training time: 0.01 seconds.\n",
      "-- Epoch 104\n",
      "Norm: 9.76, NNZs: 1, Bias: 1.344308, T: 416, Avg. loss: 0.252046\n",
      "Total training time: 0.01 seconds.\n",
      "-- Epoch 105\n",
      "Norm: 9.76, NNZs: 1, Bias: 1.344362, T: 420, Avg. loss: 0.246911\n",
      "Total training time: 0.01 seconds.\n",
      "-- Epoch 106\n",
      "Norm: 9.76, NNZs: 1, Bias: 1.344407, T: 424, Avg. loss: 0.242140\n",
      "Total training time: 0.01 seconds.\n",
      "-- Epoch 107\n",
      "Norm: 9.76, NNZs: 1, Bias: 1.344440, T: 428, Avg. loss: 0.237734\n",
      "Total training time: 0.01 seconds.\n",
      "-- Epoch 108\n",
      "Norm: 9.76, NNZs: 1, Bias: 1.344465, T: 432, Avg. loss: 0.233637\n",
      "Total training time: 0.01 seconds.\n",
      "-- Epoch 109\n",
      "Norm: 9.77, NNZs: 1, Bias: 1.344480, T: 436, Avg. loss: 0.229851\n",
      "Total training time: 0.01 seconds.\n",
      "-- Epoch 110\n",
      "Norm: 9.77, NNZs: 1, Bias: 1.344486, T: 440, Avg. loss: 0.226329\n",
      "Total training time: 0.01 seconds.\n",
      "-- Epoch 111\n",
      "Norm: 9.77, NNZs: 1, Bias: 1.344483, T: 444, Avg. loss: 0.223074\n",
      "Total training time: 0.01 seconds.\n",
      "-- Epoch 112\n",
      "Norm: 9.77, NNZs: 1, Bias: 1.344473, T: 448, Avg. loss: 0.220041\n",
      "Total training time: 0.01 seconds.\n",
      "-- Epoch 113\n",
      "Norm: 9.77, NNZs: 1, Bias: 1.344454, T: 452, Avg. loss: 0.217239\n",
      "Total training time: 0.01 seconds.\n",
      "-- Epoch 114\n",
      "Norm: 9.77, NNZs: 1, Bias: 1.344428, T: 456, Avg. loss: 0.214625\n",
      "Total training time: 0.01 seconds.\n",
      "-- Epoch 115\n",
      "Norm: 9.77, NNZs: 1, Bias: 1.344394, T: 460, Avg. loss: 0.212210\n",
      "Total training time: 0.01 seconds.\n",
      "-- Epoch 116\n",
      "Norm: 9.78, NNZs: 1, Bias: 1.344355, T: 464, Avg. loss: 0.209955\n",
      "Total training time: 0.01 seconds.\n",
      "-- Epoch 117\n",
      "Norm: 9.78, NNZs: 1, Bias: 1.344308, T: 468, Avg. loss: 0.207871\n",
      "Total training time: 0.01 seconds.\n",
      "-- Epoch 118\n",
      "Norm: 9.78, NNZs: 1, Bias: 1.344255, T: 472, Avg. loss: 0.205922\n",
      "Total training time: 0.01 seconds.\n",
      "-- Epoch 119\n",
      "Norm: 9.78, NNZs: 1, Bias: 1.344196, T: 476, Avg. loss: 0.204122\n",
      "Total training time: 0.01 seconds.\n",
      "-- Epoch 120\n",
      "Norm: 9.78, NNZs: 1, Bias: 1.344132, T: 480, Avg. loss: 0.202436\n",
      "Total training time: 0.01 seconds.\n",
      "-- Epoch 121\n",
      "Norm: 9.78, NNZs: 1, Bias: 1.344061, T: 484, Avg. loss: 0.200878\n",
      "Total training time: 0.01 seconds.\n",
      "-- Epoch 122\n",
      "Norm: 9.78, NNZs: 1, Bias: 1.343986, T: 488, Avg. loss: 0.199418\n",
      "Total training time: 0.01 seconds.\n",
      "-- Epoch 123\n",
      "Norm: 9.78, NNZs: 1, Bias: 1.343905, T: 492, Avg. loss: 0.198069\n",
      "Total training time: 0.01 seconds.\n",
      "-- Epoch 124\n",
      "Norm: 9.79, NNZs: 1, Bias: 1.343820, T: 496, Avg. loss: 0.196802\n",
      "Total training time: 0.01 seconds.\n",
      "-- Epoch 125\n",
      "Norm: 9.79, NNZs: 1, Bias: 1.343730, T: 500, Avg. loss: 0.195631\n",
      "Total training time: 0.01 seconds.\n",
      "-- Epoch 126\n",
      "Norm: 9.79, NNZs: 1, Bias: 1.343636, T: 504, Avg. loss: 0.194530\n",
      "Total training time: 0.01 seconds.\n",
      "-- Epoch 127\n",
      "Norm: 9.79, NNZs: 1, Bias: 1.343536, T: 508, Avg. loss: 0.193513\n",
      "Total training time: 0.01 seconds.\n",
      "-- Epoch 128\n",
      "Norm: 9.79, NNZs: 1, Bias: 1.343434, T: 512, Avg. loss: 0.192554\n",
      "Total training time: 0.01 seconds.\n",
      "-- Epoch 129\n",
      "Norm: 9.79, NNZs: 1, Bias: 1.343327, T: 516, Avg. loss: 0.191669\n",
      "Total training time: 0.01 seconds.\n",
      "-- Epoch 130\n",
      "Norm: 9.79, NNZs: 1, Bias: 1.343217, T: 520, Avg. loss: 0.190833\n",
      "Total training time: 0.01 seconds.\n",
      "-- Epoch 131\n",
      "Norm: 9.79, NNZs: 1, Bias: 1.343103, T: 524, Avg. loss: 0.190061\n",
      "Total training time: 0.01 seconds.\n",
      "-- Epoch 132\n",
      "Norm: 9.79, NNZs: 1, Bias: 1.342986, T: 528, Avg. loss: 0.189331\n",
      "Total training time: 0.01 seconds.\n",
      "Convergence after 132 epochs took 0.01 seconds\n"
     ]
    },
    {
     "data": {
      "text/plain": [
       "SGDRegressor(eta0=0.001, max_iter=5000, verbose=1)"
      ]
     },
     "execution_count": 27,
     "metadata": {},
     "output_type": "execute_result"
    }
   ],
   "source": [
    "# 학습\n",
    "sgd_model.fit(data[['시간']],data['성적'])"
   ]
  },
  {
   "cell_type": "code",
   "execution_count": 28,
   "metadata": {},
   "outputs": [
    {
     "name": "stdout",
     "output_type": "stream",
     "text": [
      "가중치: [9.79193163]\n",
      "절편: [1.34298578]\n"
     ]
    }
   ],
   "source": [
    "# 최적의 w, b 확인\n",
    "print('가중치:', sgd_model.coef_)\n",
    "print('절편:', sgd_model.intercept_)"
   ]
  },
  {
   "cell_type": "code",
   "execution_count": 29,
   "metadata": {},
   "outputs": [
    {
     "data": {
      "text/plain": [
       "array([69.88650716])"
      ]
     },
     "execution_count": 29,
     "metadata": {},
     "output_type": "execute_result"
    }
   ],
   "source": [
    "# 예측\n",
    "sgd_model.predict([[7]])"
   ]
  },
  {
   "cell_type": "code",
   "execution_count": null,
   "metadata": {},
   "outputs": [],
   "source": []
  }
 ],
 "metadata": {
  "kernelspec": {
   "display_name": "Python 3",
   "language": "python",
   "name": "python3"
  },
  "language_info": {
   "codemirror_mode": {
    "name": "ipython",
    "version": 3
   },
   "file_extension": ".py",
   "mimetype": "text/x-python",
   "name": "python",
   "nbconvert_exporter": "python",
   "pygments_lexer": "ipython3",
   "version": "3.8.5"
  }
 },
 "nbformat": 4,
 "nbformat_minor": 4
}
